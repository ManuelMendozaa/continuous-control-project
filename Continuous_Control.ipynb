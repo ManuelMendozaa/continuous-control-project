{
 "cells": [
  {
   "cell_type": "markdown",
   "metadata": {},
   "source": [
    "# Continuous Control\n",
    "\n",
    "---\n",
    "\n",
    "You are welcome to use this coding environment to train your agent for the project.  Follow the instructions below to get started!\n",
    "\n",
    "### 1. Start the Environment\n",
    "\n",
    "Run the next code cell to install a few packages.  This line will take a few minutes to run!"
   ]
  },
  {
   "cell_type": "code",
   "execution_count": 1,
   "metadata": {
    "scrolled": true
   },
   "outputs": [
    {
     "name": "stdout",
     "output_type": "stream",
     "text": [
      "\u001b[31mtensorflow 1.7.1 has requirement numpy>=1.13.3, but you'll have numpy 1.12.1 which is incompatible.\u001b[0m\r\n",
      "\u001b[31mipython 6.5.0 has requirement prompt-toolkit<2.0.0,>=1.0.15, but you'll have prompt-toolkit 3.0.30 which is incompatible.\u001b[0m\r\n",
      "\u001b[31mjupyter-console 6.4.3 has requirement jupyter-client>=7.0.0, but you'll have jupyter-client 5.2.4 which is incompatible.\u001b[0m\r\n"
     ]
    }
   ],
   "source": [
    "!pip -q install ./python"
   ]
  },
  {
   "cell_type": "markdown",
   "metadata": {},
   "source": [
    "The environments corresponding to both versions of the environment are already saved in the Workspace and can be accessed at the file paths provided below.  \n",
    "\n",
    "Please select one of the two options below for loading the environment."
   ]
  },
  {
   "cell_type": "code",
   "execution_count": 2,
   "metadata": {},
   "outputs": [
    {
     "name": "stderr",
     "output_type": "stream",
     "text": [
      "INFO:unityagents:\n",
      "'Academy' started successfully!\n",
      "Unity Academy name: Academy\n",
      "        Number of Brains: 1\n",
      "        Number of External Brains : 1\n",
      "        Lesson number : 0\n",
      "        Reset Parameters :\n",
      "\t\tgoal_speed -> 1.0\n",
      "\t\tgoal_size -> 5.0\n",
      "Unity brain name: ReacherBrain\n",
      "        Number of Visual Observations (per agent): 0\n",
      "        Vector Observation space type: continuous\n",
      "        Vector Observation space size (per agent): 33\n",
      "        Number of stacked Vector Observation: 1\n",
      "        Vector Action space type: continuous\n",
      "        Vector Action space size (per agent): 4\n",
      "        Vector Action descriptions: , , , \n"
     ]
    }
   ],
   "source": [
    "from unityagents import UnityEnvironment\n",
    "import numpy as np\n",
    "\n",
    "# select this option to load version 1 (with a single agent) of the environment\n",
    "# env = UnityEnvironment(file_name='/data/Reacher_One_Linux_NoVis/Reacher_One_Linux_NoVis.x86_64')\n",
    "\n",
    "# select this option to load version 2 (with 20 agents) of the environment\n",
    "env = UnityEnvironment(file_name='/data/Reacher_Linux_NoVis/Reacher.x86_64')"
   ]
  },
  {
   "cell_type": "markdown",
   "metadata": {},
   "source": [
    "Environments contain **_brains_** which are responsible for deciding the actions of their associated agents. Here we check for the first brain available, and set it as the default brain we will be controlling from Python."
   ]
  },
  {
   "cell_type": "code",
   "execution_count": 3,
   "metadata": {},
   "outputs": [],
   "source": [
    "# get the default brain\n",
    "brain_name = env.brain_names[0]\n",
    "brain = env.brains[brain_name]"
   ]
  },
  {
   "cell_type": "markdown",
   "metadata": {},
   "source": [
    "### 2. Examine the State and Action Spaces\n",
    "\n",
    "Run the code cell below to print some information about the environment."
   ]
  },
  {
   "cell_type": "code",
   "execution_count": 4,
   "metadata": {},
   "outputs": [
    {
     "name": "stdout",
     "output_type": "stream",
     "text": [
      "Number of agents: 20\n",
      "Size of each action: 4\n",
      "There are 20 agents. Each observes a state with length: 33\n",
      "The state for the first agent looks like: [  0.00000000e+00  -4.00000000e+00   0.00000000e+00   1.00000000e+00\n",
      "  -0.00000000e+00  -0.00000000e+00  -4.37113883e-08   0.00000000e+00\n",
      "   0.00000000e+00   0.00000000e+00   0.00000000e+00   0.00000000e+00\n",
      "   0.00000000e+00   0.00000000e+00  -1.00000000e+01   0.00000000e+00\n",
      "   1.00000000e+00  -0.00000000e+00  -0.00000000e+00  -4.37113883e-08\n",
      "   0.00000000e+00   0.00000000e+00   0.00000000e+00   0.00000000e+00\n",
      "   0.00000000e+00   0.00000000e+00   5.75471878e+00  -1.00000000e+00\n",
      "   5.55726624e+00   0.00000000e+00   1.00000000e+00   0.00000000e+00\n",
      "  -1.68164849e-01]\n"
     ]
    }
   ],
   "source": [
    "# reset the environment\n",
    "env_info = env.reset(train_mode=True)[brain_name]\n",
    "\n",
    "# number of agents\n",
    "num_agents = len(env_info.agents)\n",
    "print('Number of agents:', num_agents)\n",
    "\n",
    "# size of each action\n",
    "action_size = brain.vector_action_space_size\n",
    "print('Size of each action:', action_size)\n",
    "\n",
    "# examine the state space \n",
    "states = env_info.vector_observations\n",
    "state_size = states.shape[1]\n",
    "print('There are {} agents. Each observes a state with length: {}'.format(states.shape[0], state_size))\n",
    "print('The state for the first agent looks like:', states[0])"
   ]
  },
  {
   "cell_type": "markdown",
   "metadata": {},
   "source": [
    "### 3. Take Random Actions in the Environment\n",
    "\n",
    "In the next code cell, you will learn how to use the Python API to control the agent and receive feedback from the environment.\n",
    "\n",
    "Note that **in this coding environment, you will not be able to watch the agents while they are training**, and you should set `train_mode=True` to restart the environment."
   ]
  },
  {
   "cell_type": "code",
   "execution_count": 5,
   "metadata": {},
   "outputs": [
    {
     "name": "stdout",
     "output_type": "stream",
     "text": [
      "Total score (averaged over agents) this episode: 0.18749999580904841\n"
     ]
    }
   ],
   "source": [
    "env_info = env.reset(train_mode=True)[brain_name]      # reset the environment    \n",
    "states = env_info.vector_observations                  # get the current state (for each agent)\n",
    "scores = np.zeros(num_agents)                          # initialize the score (for each agent)\n",
    "while True:\n",
    "    actions = np.random.randn(num_agents, action_size) # select an action (for each agent)\n",
    "    actions = np.clip(actions, -1, 1)                  # all actions between -1 and 1\n",
    "    env_info = env.step(actions)[brain_name]           # send all actions to tne environment\n",
    "    next_states = env_info.vector_observations         # get next state (for each agent)\n",
    "    rewards = env_info.rewards                         # get reward (for each agent)\n",
    "    dones = env_info.local_done                        # see if episode finished\n",
    "    scores += env_info.rewards                         # update the score (for each agent)\n",
    "    states = next_states                               # roll over states to next time step\n",
    "    if np.any(dones):                                  # exit loop if episode finished\n",
    "        break\n",
    "print('Total score (averaged over agents) this episode: {}'.format(np.mean(scores)))"
   ]
  },
  {
   "cell_type": "markdown",
   "metadata": {},
   "source": [
    "### 4. It's Your Turn!\n",
    "\n",
    "Now it's your turn to train your own agent to solve the environment!  A few **important notes**:\n",
    "- When training the environment, set `train_mode=True`, so that the line for resetting the environment looks like the following:\n",
    "```python\n",
    "env_info = env.reset(train_mode=True)[brain_name]\n",
    "```\n",
    "- To structure your work, you're welcome to work directly in this Jupyter notebook, or you might like to start over with a new file!  You can see the list of files in the workspace by clicking on **_Jupyter_** in the top left corner of the notebook.\n",
    "- In this coding environment, you will not be able to watch the agents while they are training.  However, **_after training the agents_**, you can download the saved model weights to watch the agents on your own machine! "
   ]
  },
  {
   "cell_type": "code",
   "execution_count": 6,
   "metadata": {},
   "outputs": [],
   "source": [
    "import torch\n",
    "import matplotlib.pyplot as plt\n",
    "from collections import deque\n",
    "from workspace_utils import active_session\n",
    "\n",
    "# Import agent\n",
    "from agent import Agent"
   ]
  },
  {
   "cell_type": "code",
   "execution_count": 7,
   "metadata": {},
   "outputs": [],
   "source": [
    "# Available device\n",
    "device = torch.device(\"cuda:0\" if torch.cuda.is_available() else \"cpu\")"
   ]
  },
  {
   "cell_type": "code",
   "execution_count": 8,
   "metadata": {},
   "outputs": [],
   "source": [
    "def train_agent(n_episodes=500, max_t=1000, solved_score=30.0, consec_episodes=100, print_every=1, train_mode=True):\n",
    "    scores_list = []                        # list containing scores from each episode\n",
    "    scores_window = deque(maxlen=100)       # last 100 scores\n",
    "    \n",
    "    for i_episode in range(1, n_episodes+1):\n",
    "        # Reset environment\n",
    "        env_info = env.reset(train_mode=train_mode)[brain_name]\n",
    "        # Extract initial state\n",
    "        states = env_info.vector_observations     \n",
    "        # Prepare scores vector\n",
    "        scores = np.zeros(num_agents)\n",
    "        # Reset agent's noise\n",
    "        agent.reset()\n",
    "\n",
    "        for t in range(max_t):\n",
    "            # Select agent's action\n",
    "            actions = agent.act(states)\n",
    "            # Send action to the environment\n",
    "            env_info = env.step(actions)[brain_name]\n",
    "            # Get state update\n",
    "            next_states = env_info.vector_observations\n",
    "            # Get action reward\n",
    "            rewards = env_info.rewards\n",
    "            # Check if episode has concluded\n",
    "            dones = env_info.local_done\n",
    "            \n",
    "            # Save tuples in buffer\n",
    "            for state, action, reward, next_state, done in zip(states, actions, rewards, next_states, dones):\n",
    "                agent.step(state, action, reward, next_state, done, t)\n",
    "            \n",
    "            # Update episode's state and scores\n",
    "            states = next_states\n",
    "            scores += rewards\n",
    "            \n",
    "            # Exit loop if episode has concluded\n",
    "            if np.any(dones): break\n",
    "\n",
    "\n",
    "        # Save scores\n",
    "        scores_window.append(np.mean(scores))\n",
    "        scores_list.append(np.mean(scores))\n",
    "        \n",
    "        # Visualization\n",
    "        print('\\rEpisode {}\\tMean Score: {:.2f}'.format(i_episode, scores_window[-1], end=\"\"))\n",
    "        if i_episode % 10 == 0:\n",
    "            print('\\nEpisode {}\\tMean Score: {:.2f}'.format(i_episode, scores_window[-1], end=\"\"))\n",
    "                  \n",
    "        if np.mean(scores_window) >= 30 and i_episode > 100:\n",
    "            print('\\nEnvironment solved in {: d} episodes!\\tMean Score: {: .3f}'.format(i_episode - 100, scores_window[-1]))\n",
    "            torch.save(agent._actor_local.state_dict(), 'actor_weights.pth')\n",
    "            torch.save(agent._critic_local.state_dict(), 'critic_weights.pth')\n",
    "            break\n",
    "            \n",
    "    return scores_list"
   ]
  },
  {
   "cell_type": "code",
   "execution_count": 9,
   "metadata": {},
   "outputs": [],
   "source": [
    "def print_results(results):\n",
    "    fig = plt.figure()\n",
    "    plt.plot(np.arange(len(results)), results)\n",
    "    plt.ylabel('Score')\n",
    "    plt.xlabel('Episode #')\n",
    "    plt.show()"
   ]
  },
  {
   "cell_type": "code",
   "execution_count": 10,
   "metadata": {
    "scrolled": false
   },
   "outputs": [
    {
     "name": "stdout",
     "output_type": "stream",
     "text": [
      "Episode 1\tMean Score: 0.09\n",
      "Episode 2\tMean Score: 0.56\n",
      "Episode 3\tMean Score: 1.05\n",
      "Episode 4\tMean Score: 0.79\n",
      "Episode 5\tMean Score: 0.91\n",
      "Episode 6\tMean Score: 1.16\n",
      "Episode 7\tMean Score: 2.02\n",
      "Episode 8\tMean Score: 1.98\n",
      "Episode 9\tMean Score: 2.44\n",
      "Episode 10\tMean Score: 2.56\n",
      "\n",
      "Episode 10\tMean Score: 2.56\n",
      "Episode 11\tMean Score: 3.24\n",
      "Episode 12\tMean Score: 3.84\n",
      "Episode 13\tMean Score: 4.25\n",
      "Episode 14\tMean Score: 3.90\n",
      "Episode 15\tMean Score: 4.62\n",
      "Episode 16\tMean Score: 6.36\n",
      "Episode 17\tMean Score: 7.48\n",
      "Episode 18\tMean Score: 8.55\n",
      "Episode 19\tMean Score: 8.97\n",
      "Episode 20\tMean Score: 11.94\n",
      "\n",
      "Episode 20\tMean Score: 11.94\n",
      "Episode 21\tMean Score: 11.03\n",
      "Episode 22\tMean Score: 12.61\n",
      "Episode 23\tMean Score: 13.21\n",
      "Episode 24\tMean Score: 13.78\n",
      "Episode 25\tMean Score: 14.06\n",
      "Episode 26\tMean Score: 14.52\n",
      "Episode 27\tMean Score: 17.29\n",
      "Episode 28\tMean Score: 16.75\n",
      "Episode 29\tMean Score: 15.98\n",
      "Episode 30\tMean Score: 16.89\n",
      "\n",
      "Episode 30\tMean Score: 16.89\n",
      "Episode 31\tMean Score: 18.43\n",
      "Episode 32\tMean Score: 21.19\n",
      "Episode 33\tMean Score: 20.00\n",
      "Episode 34\tMean Score: 21.25\n",
      "Episode 35\tMean Score: 20.79\n",
      "Episode 36\tMean Score: 22.46\n",
      "Episode 37\tMean Score: 24.42\n",
      "Episode 38\tMean Score: 25.73\n",
      "Episode 39\tMean Score: 26.94\n",
      "Episode 40\tMean Score: 29.07\n",
      "\n",
      "Episode 40\tMean Score: 29.07\n",
      "Episode 41\tMean Score: 28.45\n",
      "Episode 42\tMean Score: 32.74\n",
      "Episode 43\tMean Score: 31.24\n",
      "Episode 44\tMean Score: 32.94\n",
      "Episode 45\tMean Score: 32.10\n",
      "Episode 46\tMean Score: 34.02\n",
      "Episode 47\tMean Score: 33.16\n",
      "Episode 48\tMean Score: 33.85\n",
      "Episode 49\tMean Score: 35.50\n",
      "Episode 50\tMean Score: 36.68\n",
      "\n",
      "Episode 50\tMean Score: 36.68\n",
      "Episode 51\tMean Score: 37.25\n",
      "Episode 52\tMean Score: 36.31\n",
      "Episode 53\tMean Score: 34.15\n",
      "Episode 54\tMean Score: 36.88\n",
      "Episode 55\tMean Score: 37.73\n",
      "Episode 56\tMean Score: 38.13\n",
      "Episode 57\tMean Score: 37.92\n",
      "Episode 58\tMean Score: 38.16\n",
      "Episode 59\tMean Score: 37.77\n",
      "Episode 60\tMean Score: 37.62\n",
      "\n",
      "Episode 60\tMean Score: 37.62\n",
      "Episode 61\tMean Score: 38.35\n",
      "Episode 62\tMean Score: 38.21\n",
      "Episode 63\tMean Score: 37.78\n",
      "Episode 64\tMean Score: 38.72\n",
      "Episode 65\tMean Score: 37.37\n",
      "Episode 66\tMean Score: 38.04\n",
      "Episode 67\tMean Score: 38.41\n",
      "Episode 68\tMean Score: 38.64\n",
      "Episode 69\tMean Score: 38.55\n",
      "Episode 70\tMean Score: 39.20\n",
      "\n",
      "Episode 70\tMean Score: 39.20\n",
      "Episode 71\tMean Score: 38.80\n",
      "Episode 72\tMean Score: 39.25\n",
      "Episode 73\tMean Score: 39.18\n",
      "Episode 74\tMean Score: 39.31\n",
      "Episode 75\tMean Score: 39.32\n",
      "Episode 76\tMean Score: 39.19\n",
      "Episode 77\tMean Score: 39.33\n",
      "Episode 78\tMean Score: 38.70\n",
      "Episode 79\tMean Score: 38.61\n",
      "Episode 80\tMean Score: 38.47\n",
      "\n",
      "Episode 80\tMean Score: 38.47\n",
      "Episode 81\tMean Score: 38.28\n",
      "Episode 82\tMean Score: 38.59\n",
      "Episode 83\tMean Score: 39.29\n",
      "Episode 84\tMean Score: 38.75\n",
      "Episode 85\tMean Score: 38.79\n",
      "Episode 86\tMean Score: 38.78\n",
      "Episode 87\tMean Score: 39.27\n",
      "Episode 88\tMean Score: 38.96\n",
      "Episode 89\tMean Score: 38.80\n",
      "Episode 90\tMean Score: 38.92\n",
      "\n",
      "Episode 90\tMean Score: 38.92\n",
      "Episode 91\tMean Score: 38.90\n",
      "Episode 92\tMean Score: 37.43\n",
      "Episode 93\tMean Score: 38.82\n",
      "Episode 94\tMean Score: 38.86\n",
      "Episode 95\tMean Score: 36.99\n",
      "Episode 96\tMean Score: 37.82\n",
      "Episode 97\tMean Score: 38.30\n",
      "Episode 98\tMean Score: 38.00\n",
      "Episode 99\tMean Score: 37.21\n",
      "Episode 100\tMean Score: 37.01\n",
      "\n",
      "Episode 100\tMean Score: 37.01\n",
      "Episode 101\tMean Score: 35.42\n",
      "Episode 102\tMean Score: 38.02\n",
      "Episode 103\tMean Score: 38.31\n",
      "Episode 104\tMean Score: 37.13\n",
      "Episode 105\tMean Score: 37.03\n",
      "Episode 106\tMean Score: 38.69\n",
      "Episode 107\tMean Score: 36.94\n",
      "Episode 108\tMean Score: 37.91\n",
      "Episode 109\tMean Score: 37.34\n",
      "\n",
      "Environment solved in  9 episodes!\tMean Score:  37.336\n"
     ]
    }
   ],
   "source": [
    "agent = Agent(state_size, action_size, device=device)\n",
    "\n",
    "with active_session():\n",
    "    scores = train_agent(n_episodes=200)"
   ]
  },
  {
   "cell_type": "code",
   "execution_count": 16,
   "metadata": {
    "scrolled": true
   },
   "outputs": [
    {
     "name": "stdout",
     "output_type": "stream",
     "text": [
      "\n",
      "Environment solved in  9 episodes!\tMean Score:  30.227\n"
     ]
    }
   ],
   "source": [
    "print('\\nEnvironment solved in {: d} episodes!\\tMean Score: {: .3f}'.format(9, np.mean(scores[9:109])))"
   ]
  },
  {
   "cell_type": "code",
   "execution_count": 17,
   "metadata": {
    "scrolled": true
   },
   "outputs": [
    {
     "data": {
      "image/png": "[encoded data removed]",
      "text/plain": [
       "<matplotlib.figure.Figure at 0x7f2fca3b6d30>"
      ]
     },
     "metadata": {
      "needs_background": "light"
     },
     "output_type": "display_data"
    }
   ],
   "source": [
    "print_results(scores)"
   ]
  },
  {
   "cell_type": "markdown",
   "metadata": {},
   "source": []
  }
 ],
 "metadata": {
  "kernelspec": {
   "display_name": "Python 3",
   "language": "python",
   "name": "python3"
  },
  "language_info": {
   "codemirror_mode": {
    "name": "ipython",
    "version": 3
   },
   "file_extension": ".py",
   "mimetype": "text/x-python",
   "name": "python",
   "nbconvert_exporter": "python",
   "pygments_lexer": "ipython3",
   "version": "3.6.3"
  }
 },
 "nbformat": 4,
 "nbformat_minor": 2
}
